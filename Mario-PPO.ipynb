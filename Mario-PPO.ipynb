{
 "cells": [
  {
   "cell_type": "markdown",
   "id": "2df56427-fee1-45ab-9d3a-eb71654d9ef7",
   "metadata": {},
   "source": [
    "1. Setup"
   ]
  },
  {
   "cell_type": "code",
   "execution_count": null,
   "id": "4c4acbb7-0c23-4af8-9725-a938808d5ce6",
   "metadata": {
    "editable": true,
    "scrolled": true,
    "slideshow": {
     "slide_type": ""
    },
    "tags": []
   },
   "outputs": [],
   "source": [
    "!pip install gym_super_mario_bros==7.3.0 nes_py"
   ]
  },
  {
   "cell_type": "code",
   "execution_count": null,
   "id": "f2e96aef-e1ec-490f-adea-61c60fd145bd",
   "metadata": {},
   "outputs": [],
   "source": [
    "# Spiel importieren\n",
    "import gym_super_mario_bros\n",
    "# Joypad wrapper importieren\n",
    "from nes_py.wrappers import JoypadSpace\n",
    "# Vereinfachte Kontrolle importieren\n",
    "from gym_super_mario_bros.actions import SIMPLE_MOVEMENT"
   ]
  },
  {
   "cell_type": "code",
   "execution_count": null,
   "id": "b9f6c081-0af9-4ab4-b670-eab5f9818c34",
   "metadata": {},
   "outputs": [],
   "source": [
    "from gym_super_mario_bros.actions import COMPLEX_MOVEMENT"
   ]
  },
  {
   "cell_type": "code",
   "execution_count": null,
   "id": "453c84d7-b998-43ab-bf25-0bc6b320d579",
   "metadata": {},
   "outputs": [],
   "source": [
    "##mögliche Tastenkombis\n",
    "RIGHT_ONLY"
   ]
  },
  {
   "cell_type": "code",
   "execution_count": null,
   "id": "e716eeaa-995c-476c-82e0-fa21d35c2a03",
   "metadata": {},
   "outputs": [],
   "source": [
    "COMPLEX_MOVEMENT"
   ]
  },
  {
   "cell_type": "code",
   "execution_count": null,
   "id": "b859548b-1430-49ba-896c-fe6bde3fcbc2",
   "metadata": {},
   "outputs": [],
   "source": [
    "env = gym_super_mario_bros.make('SuperMarioBros-v0', apply_api_compatibility=True, render_mode=\"human\")\n",
    "env = JoypadSpace(env, SIMPLE_MOVEMENT)"
   ]
  },
  {
   "cell_type": "code",
   "execution_count": null,
   "id": "91e84949-20b0-4f98-945f-988a7afbc5fb",
   "metadata": {
    "jupyter": {
     "source_hidden": true
    },
    "scrolled": true
   },
   "outputs": [],
   "source": [
    "done = True\n",
    "for step in range(100000):\n",
    "# Start the game to begin with\n",
    "    if done:\n",
    "        env.reset()\n",
    "    observation, reward, terminated, truncated, info = env.step(env.action_space.sample())\n",
    "    done = terminated or truncated\n",
    "    env.render()\n",
    "env.close()"
   ]
  },
  {
   "cell_type": "code",
   "execution_count": null,
   "id": "5621714c-ed2f-4f51-bd4d-c6266298cd3b",
   "metadata": {},
   "outputs": [],
   "source": [
    "env.close()"
   ]
  },
  {
   "cell_type": "code",
   "execution_count": null,
   "id": "1747f0d7-b67a-42bf-8ca4-fd1836c672d0",
   "metadata": {},
   "outputs": [],
   "source": [
    "##256 mögliche Tastenkombis für AI (schwer zu lernen)\n",
    "env.action_space"
   ]
  },
  {
   "cell_type": "code",
   "execution_count": null,
   "id": "a920d29e-7d26-4cb7-8bbd-39e6ee6ff4b4",
   "metadata": {},
   "outputs": [],
   "source": [
    "state = env.reset()"
   ]
  },
  {
   "cell_type": "code",
   "execution_count": null,
   "id": "8018aae1-29f6-41f5-bb66-c23f5309d455",
   "metadata": {
    "scrolled": true
   },
   "outputs": [],
   "source": [
    "env.step(1)[4]"
   ]
  },
  {
   "cell_type": "markdown",
   "id": "34d8549e-fa81-46a6-9b63-07731a5dbe1c",
   "metadata": {},
   "source": [
    "2. Preprocess Environment"
   ]
  },
  {
   "cell_type": "code",
   "execution_count": null,
   "id": "d8ecbd22-3504-467d-90b7-448cc24141b2",
   "metadata": {},
   "outputs": [],
   "source": [
    "# Install pytorch\n",
    "!pip install torch torchvision torchaudio"
   ]
  },
  {
   "cell_type": "code",
   "execution_count": null,
   "id": "b775a936-1d43-4dc3-94f6-ceca3317aafd",
   "metadata": {},
   "outputs": [],
   "source": [
    "# Install stable baselines for RL stuff\n",
    "!pip install stable-baselines3[extra]"
   ]
  },
  {
   "cell_type": "code",
   "execution_count": null,
   "id": "195661bd-1dc5-47c2-bc46-098d900d5792",
   "metadata": {},
   "outputs": [],
   "source": [
    "# Import Frame Stacker Wrapper and GrayScaling Wrapper\n",
    "from gym.wrappers import GrayScaleObservation\n",
    "# Import Vectorization Wrappers\n",
    "from stable_baselines3.common.vec_env import VecFrameStack, DummyVecEnv\n",
    "# Import Matplotlib to show the impact of frame stacking\n",
    "from matplotlib import pyplot as plt"
   ]
  },
  {
   "cell_type": "code",
   "execution_count": null,
   "id": "ba8ec3a4-d67d-479a-acc4-97fadce3a37b",
   "metadata": {},
   "outputs": [],
   "source": [
    "# 1. Create the base environment\n",
    "env = gym_super_mario_bros.make('SuperMarioBros-v0', apply_api_compatibility=True, render_mode=\"human\")\n",
    "# 2. Simplify the controls \n",
    "env = JoypadSpace(env, SIMPLE_MOVEMENT)\n",
    "JoypadSpace.reset = lambda self, **kwargs: self.env.reset(**kwargs)\n",
    "# 3. Grayscale\n",
    "env = GrayScaleObservation(env, keep_dim=True)\n",
    "# 4. Wrap inside the Dummy Environment\n",
    "env = DummyVecEnv([lambda: env])\n",
    "# 5. Stack the frames\n",
    "env = VecFrameStack(env, 4, channels_order='last')"
   ]
  },
  {
   "cell_type": "code",
   "execution_count": null,
   "id": "352f729b-a868-499a-a9f1-2a7573dd5ded",
   "metadata": {},
   "outputs": [],
   "source": [
    "state = env.reset()"
   ]
  },
  {
   "cell_type": "code",
   "execution_count": null,
   "id": "f131d9c6-e8e8-4f39-b36a-ce065ce3ad85",
   "metadata": {},
   "outputs": [],
   "source": [
    "state, reward, done, info = env.step([5])"
   ]
  },
  {
   "cell_type": "code",
   "execution_count": null,
   "id": "986da293-df18-4513-8b56-684737220e92",
   "metadata": {},
   "outputs": [],
   "source": [
    "state.shape"
   ]
  },
  {
   "cell_type": "code",
   "execution_count": null,
   "id": "0fba0f8a-1cf2-444e-a90b-f0d59685c55b",
   "metadata": {},
   "outputs": [],
   "source": [
    "plt.imshow(state[0])"
   ]
  },
  {
   "cell_type": "code",
   "execution_count": null,
   "id": "ef3ad7bc-a4a8-417b-9828-524e1ad08f87",
   "metadata": {},
   "outputs": [],
   "source": [
    "state, reward, done, info = env.step([5])"
   ]
  },
  {
   "cell_type": "code",
   "execution_count": null,
   "id": "20a71a2e-0592-42e8-a642-efe2138818f8",
   "metadata": {},
   "outputs": [],
   "source": [
    "plt.figure(figsize=(20,16))\n",
    "for idx in range(state.shape[3]):\n",
    "    plt.subplot(1,4,idx+1)\n",
    "    plt.imshow(state[0][:,:,idx])\n",
    "plt.show()"
   ]
  },
  {
   "cell_type": "markdown",
   "id": "ce6cd17e-c768-43f5-ae41-901b1aaad4e5",
   "metadata": {},
   "source": [
    "2. Preprocess Environment"
   ]
  },
  {
   "cell_type": "code",
   "execution_count": null,
   "id": "5641d32e-9b4c-4909-8eac-bbbf85043423",
   "metadata": {},
   "outputs": [],
   "source": [
    "# Import os for file path management\n",
    "import os \n",
    "# Import PPO for algos\n",
    "from stable_baselines3 import PPO\n",
    "from stable_baselines3 import A2C\n",
    "# Import Base Callback for saving models\n",
    "from stable_baselines3.common.callbacks import BaseCallback"
   ]
  },
  {
   "cell_type": "code",
   "execution_count": null,
   "id": "839563ab-42b9-4558-ac3b-9e6ce39a4d73",
   "metadata": {},
   "outputs": [],
   "source": [
    "class TrainAndLoggingCallback(BaseCallback):\n",
    "\n",
    "    def __init__(self, check_freq, save_path, verbose=1):\n",
    "        super(TrainAndLoggingCallback, self).__init__(verbose)\n",
    "        self.check_freq = check_freq\n",
    "        self.save_path = save_path\n",
    "\n",
    "    def _init_callback(self):\n",
    "        if self.save_path is not None:\n",
    "            os.makedirs(self.save_path, exist_ok=True)\n",
    "\n",
    "    def _on_step(self):\n",
    "        if self.n_calls % self.check_freq == 0:\n",
    "            model_path = os.path.join(self.save_path, 'best_model_{}'.format(self.n_calls))\n",
    "            self.model.save(model_path)\n",
    "\n",
    "        return True"
   ]
  },
  {
   "cell_type": "code",
   "execution_count": null,
   "id": "baad93f5-7672-43a3-bacc-796ef056d4a5",
   "metadata": {},
   "outputs": [],
   "source": [
    "CHECKPOINT_DIR = './train1/'\n",
    "LOG_DIR = './logs1/'"
   ]
  },
  {
   "cell_type": "code",
   "execution_count": null,
   "id": "9efdf07e-a9cb-440a-964f-1c43c9f13a0d",
   "metadata": {},
   "outputs": [],
   "source": [
    "# Setup model saving callback\n",
    "callback = TrainAndLoggingCallback(check_freq=10000, save_path=CHECKPOINT_DIR)"
   ]
  },
  {
   "cell_type": "code",
   "execution_count": null,
   "id": "3fbf41cc-5d11-48bd-92a2-ee7146930a44",
   "metadata": {},
   "outputs": [],
   "source": [
    "# This is the AI model started\n",
    "model = PPO('MlpPolicy', env, verbose=1, tensorboard_log=LOG_DIR, learning_rate=0.000001, \n",
    "            n_steps=512)   \n",
    "\n",
    "######MlpPolicy für anderes Vorgehen!!!!######"
   ]
  },
  {
   "cell_type": "code",
   "execution_count": null,
   "id": "ce637678-c249-4761-a4f6-1b9d3f94b6de",
   "metadata": {
    "scrolled": true
   },
   "outputs": [],
   "source": [
    "# Train the AI model, this is where the AI model starts to learn\n",
    "model.learn(total_timesteps=10000, callback=callback)"
   ]
  },
  {
   "cell_type": "code",
   "execution_count": null,
   "id": "ebb6f284-4d99-4332-b575-af3d1c0cd032",
   "metadata": {},
   "outputs": [],
   "source": [
    "model.save('mlpmodel')"
   ]
  },
  {
   "cell_type": "markdown",
   "id": "e5681b81-5790-4ea7-b1f7-63687c6629e6",
   "metadata": {},
   "source": [
    "Testing"
   ]
  },
  {
   "cell_type": "code",
   "execution_count": null,
   "id": "d1ecce8e-0cf3-4b13-82a1-707ef8994413",
   "metadata": {},
   "outputs": [],
   "source": [
    "# Load model\n",
    "model = PPO.load('./train1/best_model_10000')"
   ]
  },
  {
   "cell_type": "code",
   "execution_count": null,
   "id": "57f0a7f1-fe50-46ef-a29f-db9a30a9035d",
   "metadata": {},
   "outputs": [],
   "source": [
    "model = A2C.load('./train2/best_model_5000000')"
   ]
  },
  {
   "cell_type": "code",
   "execution_count": null,
   "id": "b1f5c1c8-39c1-49ee-9bbd-e839e4398881",
   "metadata": {},
   "outputs": [],
   "source": [
    "state = env.reset()\n"
   ]
  },
  {
   "cell_type": "code",
   "execution_count": null,
   "id": "dab74f82-79ef-4c57-8a81-ec4b4a8f3ee2",
   "metadata": {},
   "outputs": [],
   "source": [
    "env.close()"
   ]
  },
  {
   "cell_type": "code",
   "execution_count": null,
   "id": "91d431b2-9db4-499d-871c-165a8e71e77e",
   "metadata": {},
   "outputs": [],
   "source": [
    "env.observation_space = (3, 240, 256)"
   ]
  },
  {
   "cell_type": "code",
   "execution_count": null,
   "id": "7a00c850-41b5-40c9-be5e-b0fae33789df",
   "metadata": {
    "scrolled": true
   },
   "outputs": [],
   "source": [
    "state = env.reset()\n",
    "\n",
    "while True: \n",
    "    \n",
    "    action, _ = model.predict(state)\n",
    "    state, reward, done, info = env.step(action)\n",
    "    env.render()"
   ]
  },
  {
   "cell_type": "code",
   "execution_count": null,
   "id": "003269f2-3778-45aa-a860-331990c7d5a0",
   "metadata": {},
   "outputs": [],
   "source": [
    "env.close()"
   ]
  }
 ],
 "metadata": {
  "kernelspec": {
   "display_name": "Python 3 (ipykernel)",
   "language": "python",
   "name": "python3"
  },
  "language_info": {
   "codemirror_mode": {
    "name": "ipython",
    "version": 3
   },
   "file_extension": ".py",
   "mimetype": "text/x-python",
   "name": "python",
   "nbconvert_exporter": "python",
   "pygments_lexer": "ipython3",
   "version": "3.8.10"
  }
 },
 "nbformat": 4,
 "nbformat_minor": 5
}
