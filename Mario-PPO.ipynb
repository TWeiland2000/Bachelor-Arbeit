{
 "cells": [
  {
   "cell_type": "markdown",
   "id": "2df56427-fee1-45ab-9d3a-eb71654d9ef7",
   "metadata": {},
   "source": [
    "1. Einrichtung"
   ]
  },
  {
   "cell_type": "code",
   "execution_count": null,
   "id": "4c4acbb7-0c23-4af8-9725-a938808d5ce6",
   "metadata": {
    "editable": true,
    "scrolled": true,
    "slideshow": {
     "slide_type": ""
    },
    "tags": []
   },
   "outputs": [],
   "source": [
    "# Umgebung/Spiel installieren\n",
    "!pip install gym_super_mario_bros==7.3.0 nes_py"
   ]
  },
  {
   "cell_type": "code",
   "execution_count": null,
   "id": "f2e96aef-e1ec-490f-adea-61c60fd145bd",
   "metadata": {},
   "outputs": [],
   "source": [
    "# Spiel importieren\n",
    "import gym_super_mario_bros\n",
    "# Joypad wrapper importieren\n",
    "from nes_py.wrappers import JoypadSpace\n",
    "# Vereinfachte Kontrolle importieren\n",
    "from gym_super_mario_bros.actions import SIMPLE_MOVEMENT\n",
    "from gym_super_mario_bros.actions import COMPLEX_MOVEMENT\n",
    "from gym_super_mario_bros.actions import RIGHT_ONLY"
   ]
  },
  {
   "cell_type": "code",
   "execution_count": null,
   "id": "453c84d7-b998-43ab-bf25-0bc6b320d579",
   "metadata": {},
   "outputs": [],
   "source": [
    "##mögliche Action Lists und Ausgabe\n",
    "RIGHT_ONLY"
   ]
  },
  {
   "cell_type": "code",
   "execution_count": null,
   "id": "0f6d915e-b630-4012-8cfc-143ea10a7c58",
   "metadata": {},
   "outputs": [],
   "source": [
    "COMPLEX_MOVEMENT"
   ]
  },
  {
   "cell_type": "code",
   "execution_count": null,
   "id": "fd5e5875-4204-4f81-8bde-7ca40636b8be",
   "metadata": {},
   "outputs": [],
   "source": [
    "SIMPLE_MOVEMENT"
   ]
  },
  {
   "cell_type": "markdown",
   "id": "34d8549e-fa81-46a6-9b63-07731a5dbe1c",
   "metadata": {},
   "source": [
    "2. Umgebung einrichten"
   ]
  },
  {
   "cell_type": "code",
   "execution_count": null,
   "id": "d8ecbd22-3504-467d-90b7-448cc24141b2",
   "metadata": {},
   "outputs": [],
   "source": [
    "# pytorch installieren\n",
    "!pip install torch torchvision torchaudio"
   ]
  },
  {
   "cell_type": "code",
   "execution_count": null,
   "id": "b775a936-1d43-4dc3-94f6-ceca3317aafd",
   "metadata": {},
   "outputs": [],
   "source": [
    "# stable-baselines installieren\n",
    "!pip install stable-baselines3[extra]"
   ]
  },
  {
   "cell_type": "code",
   "execution_count": null,
   "id": "195661bd-1dc5-47c2-bc46-098d900d5792",
   "metadata": {},
   "outputs": [],
   "source": [
    "# Grayscaling\n",
    "from gym.wrappers import GrayScaleObservation\n",
    "\n",
    "from stable_baselines3.common.vec_env import VecFrameStack, DummyVecEnv\n",
    "\n",
    "from matplotlib import pyplot as plt"
   ]
  },
  {
   "cell_type": "code",
   "execution_count": null,
   "id": "ba8ec3a4-d67d-479a-acc4-97fadce3a37b",
   "metadata": {},
   "outputs": [],
   "source": [
    "# 1. Umgebung erstellen\n",
    "env = gym_super_mario_bros.make('SuperMarioBros-v0', apply_api_compatibility=True, render_mode=\"human\")\n",
    "# 2. Vereinfachte Aktionen einführen \n",
    "env = JoypadSpace(env, SIMPLE_MOVEMENT)\n",
    "JoypadSpace.reset = lambda self, **kwargs: self.env.reset(**kwargs)\n",
    "# 3. Grayscaling anwenden\n",
    "env = GrayScaleObservation(env, keep_dim=True)\n",
    "# 4. Anwenden in Dummy-Umgebung\n",
    "env = DummyVecEnv([lambda: env])\n",
    "# 5. Frames Stapeln\n",
    "env = VecFrameStack(env, 4, channels_order='last')"
   ]
  },
  {
   "cell_type": "code",
   "execution_count": null,
   "id": "352f729b-a868-499a-a9f1-2a7573dd5ded",
   "metadata": {},
   "outputs": [],
   "source": [
    "#Momentaufnahme der Umgebung\n",
    "state = env.reset()"
   ]
  },
  {
   "cell_type": "code",
   "execution_count": null,
   "id": "f131d9c6-e8e8-4f39-b36a-ce065ce3ad85",
   "metadata": {},
   "outputs": [],
   "source": [
    "# Beispiel wie eine Aktion ausgeführt werden kann\n",
    "state, reward, done, info = env.step([5])"
   ]
  },
  {
   "cell_type": "code",
   "execution_count": null,
   "id": "986da293-df18-4513-8b56-684737220e92",
   "metadata": {},
   "outputs": [],
   "source": [
    "#Form der Umgebung\n",
    "state.shape"
   ]
  },
  {
   "cell_type": "code",
   "execution_count": null,
   "id": "0fba0f8a-1cf2-444e-a90b-f0d59685c55b",
   "metadata": {},
   "outputs": [],
   "source": [
    "#Ausgabe der Momentaufnahme\n",
    "plt.imshow(state[0])"
   ]
  },
  {
   "cell_type": "markdown",
   "id": "ce6cd17e-c768-43f5-ae41-901b1aaad4e5",
   "metadata": {},
   "source": [
    "3. Modell und Training einrichten"
   ]
  },
  {
   "cell_type": "code",
   "execution_count": null,
   "id": "5641d32e-9b4c-4909-8eac-bbbf85043423",
   "metadata": {},
   "outputs": [],
   "source": [
    "# OS importieren zum Dokumentenmanagement\n",
    "import os \n",
    "# PPO-Algortihmus importieren\n",
    "from stable_baselines3 import PPO\n",
    "# BaseCallback importieren um später Dokumentensicherung durch Callback zu programmieren\n",
    "from stable_baselines3.common.callbacks import BaseCallback"
   ]
  },
  {
   "cell_type": "code",
   "execution_count": null,
   "id": "839563ab-42b9-4558-ac3b-9e6ce39a4d73",
   "metadata": {},
   "outputs": [],
   "source": [
    "# Callback zur Dokumentensicherung\n",
    "class TrainAndLoggingCallback(BaseCallback):\n",
    "\n",
    "    def __init__(self, check_freq, save_path, verbose=1):\n",
    "        super(TrainAndLoggingCallback, self).__init__(verbose)\n",
    "        self.check_freq = check_freq\n",
    "        self.save_path = save_path\n",
    "\n",
    "    def _init_callback(self):\n",
    "        if self.save_path is not None:\n",
    "            os.makedirs(self.save_path, exist_ok=True)\n",
    "\n",
    "    def _on_step(self):\n",
    "        if self.n_calls % self.check_freq == 0:\n",
    "            model_path = os.path.join(self.save_path, 'best_model_{}'.format(self.n_calls))\n",
    "            self.model.save(model_path)\n",
    "\n",
    "        return True"
   ]
  },
  {
   "cell_type": "code",
   "execution_count": null,
   "id": "baad93f5-7672-43a3-bacc-796ef056d4a5",
   "metadata": {},
   "outputs": [],
   "source": [
    "#Speicherorte\n",
    "CHECKPOINT_DIR = './train1/'\n",
    "LOG_DIR = './logs1/'"
   ]
  },
  {
   "cell_type": "code",
   "execution_count": null,
   "id": "9efdf07e-a9cb-440a-964f-1c43c9f13a0d",
   "metadata": {},
   "outputs": [],
   "source": [
    "# Sicherung der Trainings- und Logdateien\n",
    "callback = TrainAndLoggingCallback(check_freq=10000, save_path=CHECKPOINT_DIR)"
   ]
  },
  {
   "cell_type": "code",
   "execution_count": null,
   "id": "3fbf41cc-5d11-48bd-92a2-ee7146930a44",
   "metadata": {},
   "outputs": [],
   "source": [
    "# Einrichtung des Agenten/Modells in der definierten Umgebung\n",
    "model = PPO('CNNPolicy', env, verbose=1, tensorboard_log=LOG_DIR, learning_rate=0.000001, \n",
    "            n_steps=512)   "
   ]
  },
  {
   "cell_type": "code",
   "execution_count": null,
   "id": "ce637678-c249-4761-a4f6-1b9d3f94b6de",
   "metadata": {
    "scrolled": true
   },
   "outputs": [],
   "source": [
    "# Training des Agenten\n",
    "model.learn(total_timesteps=10000, callback=callback)"
   ]
  },
  {
   "cell_type": "code",
   "execution_count": null,
   "id": "ebb6f284-4d99-4332-b575-af3d1c0cd032",
   "metadata": {},
   "outputs": [],
   "source": [
    "# Agenten speichern\n",
    "model.save('PPOModel')"
   ]
  },
  {
   "cell_type": "markdown",
   "id": "e5681b81-5790-4ea7-b1f7-63687c6629e6",
   "metadata": {},
   "source": [
    "4. Testen "
   ]
  },
  {
   "cell_type": "code",
   "execution_count": null,
   "id": "57f0a7f1-fe50-46ef-a29f-db9a30a9035d",
   "metadata": {},
   "outputs": [],
   "source": [
    "# Laden des Modells\n",
    "model = PPO.load('./train2/best_model_5000000')"
   ]
  },
  {
   "cell_type": "code",
   "execution_count": null,
   "id": "7a00c850-41b5-40c9-be5e-b0fae33789df",
   "metadata": {
    "scrolled": true
   },
   "outputs": [],
   "source": [
    "#Testen der KI\n",
    "state = env.reset()\n",
    "\n",
    "while True: \n",
    "    # Vorraussage des Modells\n",
    "    action, _ = model.predict(state)\n",
    "    # Anwendung auf Umgebung\n",
    "    state, reward, done, info = env.step(action)\n",
    "    # Live-Ausgabe des Spiels\n",
    "    env.render()"
   ]
  },
  {
   "cell_type": "code",
   "execution_count": null,
   "id": "003269f2-3778-45aa-a860-331990c7d5a0",
   "metadata": {},
   "outputs": [],
   "source": [
    "# Umgebnung schließen\n",
    "env.close()"
   ]
  }
 ],
 "metadata": {
  "kernelspec": {
   "display_name": "Python 3 (ipykernel)",
   "language": "python",
   "name": "python3"
  },
  "language_info": {
   "codemirror_mode": {
    "name": "ipython",
    "version": 3
   },
   "file_extension": ".py",
   "mimetype": "text/x-python",
   "name": "python",
   "nbconvert_exporter": "python",
   "pygments_lexer": "ipython3",
   "version": "3.8.10"
  }
 },
 "nbformat": 4,
 "nbformat_minor": 5
}
